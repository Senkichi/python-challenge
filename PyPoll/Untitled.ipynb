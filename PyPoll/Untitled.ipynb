{
 "cells": [
  {
   "cell_type": "code",
   "execution_count": 22,
   "metadata": {},
   "outputs": [],
   "source": [
    "import pandas as pd"
   ]
  },
  {
   "cell_type": "code",
   "execution_count": 23,
   "metadata": {},
   "outputs": [
    {
     "data": {
      "text/html": [
       "<div>\n",
       "<style scoped>\n",
       "    .dataframe tbody tr th:only-of-type {\n",
       "        vertical-align: middle;\n",
       "    }\n",
       "\n",
       "    .dataframe tbody tr th {\n",
       "        vertical-align: top;\n",
       "    }\n",
       "\n",
       "    .dataframe thead th {\n",
       "        text-align: right;\n",
       "    }\n",
       "</style>\n",
       "<table border=\"1\" class=\"dataframe\">\n",
       "  <thead>\n",
       "    <tr style=\"text-align: right;\">\n",
       "      <th></th>\n",
       "      <th>Voter ID</th>\n",
       "      <th>County</th>\n",
       "      <th>Candidate</th>\n",
       "    </tr>\n",
       "  </thead>\n",
       "  <tbody>\n",
       "    <tr>\n",
       "      <th>0</th>\n",
       "      <td>12864552</td>\n",
       "      <td>Marsh</td>\n",
       "      <td>Khan</td>\n",
       "    </tr>\n",
       "    <tr>\n",
       "      <th>1</th>\n",
       "      <td>17444633</td>\n",
       "      <td>Marsh</td>\n",
       "      <td>Correy</td>\n",
       "    </tr>\n",
       "    <tr>\n",
       "      <th>2</th>\n",
       "      <td>19330107</td>\n",
       "      <td>Marsh</td>\n",
       "      <td>Khan</td>\n",
       "    </tr>\n",
       "    <tr>\n",
       "      <th>3</th>\n",
       "      <td>19865775</td>\n",
       "      <td>Queen</td>\n",
       "      <td>Khan</td>\n",
       "    </tr>\n",
       "    <tr>\n",
       "      <th>4</th>\n",
       "      <td>11927875</td>\n",
       "      <td>Marsh</td>\n",
       "      <td>Khan</td>\n",
       "    </tr>\n",
       "  </tbody>\n",
       "</table>\n",
       "</div>"
      ],
      "text/plain": [
       "   Voter ID County Candidate\n",
       "0  12864552  Marsh      Khan\n",
       "1  17444633  Marsh    Correy\n",
       "2  19330107  Marsh      Khan\n",
       "3  19865775  Queen      Khan\n",
       "4  11927875  Marsh      Khan"
      ]
     },
     "execution_count": 23,
     "metadata": {},
     "output_type": "execute_result"
    }
   ],
   "source": [
    "poll_df = pd.read_csv('election_data.csv')\n",
    "poll_df.head()"
   ]
  },
  {
   "cell_type": "code",
   "execution_count": 24,
   "metadata": {},
   "outputs": [
    {
     "data": {
      "text/plain": [
       "3521001"
      ]
     },
     "execution_count": 24,
     "metadata": {},
     "output_type": "execute_result"
    }
   ],
   "source": [
    "num_votes = poll_df['Voter ID'].nunique()\n",
    "num_votes"
   ]
  },
  {
   "cell_type": "code",
   "execution_count": 25,
   "metadata": {},
   "outputs": [
    {
     "data": {
      "text/plain": [
       "array(['Khan', 'Correy', 'Li', \"O'Tooley\"], dtype=object)"
      ]
     },
     "execution_count": 25,
     "metadata": {},
     "output_type": "execute_result"
    }
   ],
   "source": [
    "candidates = poll_df['Candidate'].unique()\n",
    "candidates"
   ]
  },
  {
   "cell_type": "code",
   "execution_count": 26,
   "metadata": {},
   "outputs": [],
   "source": [
    "khan_pct = (len(poll_df[poll_df['Candidate'] == 'Khan'])/len(poll_df['Candidate']))*100\n",
    "khan_pct\n",
    "correy_pct = (len(poll_df[poll_df['Candidate'] == 'Correy'])/len(poll_df['Candidate']))*100\n",
    "\n",
    "li_pct = (len(poll_df[poll_df['Candidate'] == 'Li'])/len(poll_df['Candidate']))*100\n",
    "\n",
    "otooley_pct = (len(poll_df[poll_df['Candidate'] == \"O'Tooley\"])/len(poll_df['Candidate']))*100"
   ]
  },
  {
   "cell_type": "code",
   "execution_count": 27,
   "metadata": {},
   "outputs": [],
   "source": [
    "khan_count = len(poll_df[poll_df['Candidate'] == 'Khan'])\n",
    "correy_count = len(poll_df[poll_df['Candidate'] == 'Correy'])\n",
    "li_count = len(poll_df[poll_df['Candidate'] == 'Li'])\n",
    "otooley_count = len(poll_df[poll_df['Candidate'] == \"O'Tooley\"])"
   ]
  },
  {
   "cell_type": "code",
   "execution_count": 28,
   "metadata": {},
   "outputs": [
    {
     "data": {
      "text/plain": [
       "Khan        2218231\n",
       "Correy       704200\n",
       "Li           492940\n",
       "O'Tooley     105630\n",
       "Name: Candidate, dtype: int64"
      ]
     },
     "execution_count": 28,
     "metadata": {},
     "output_type": "execute_result"
    }
   ],
   "source": [
    "poll_df['Candidate'].value_counts()"
   ]
  },
  {
   "cell_type": "code",
   "execution_count": 30,
   "metadata": {},
   "outputs": [
    {
     "name": "stdout",
     "output_type": "stream",
     "text": [
      "Election Results\n",
      "------------------------------------------------------------------------\n",
      "Total Votes: 3521001\n",
      "------------------------------------------------------------------------\n",
      "Khan: 63.00001050837531% (2218231)\n",
      "Correy: 19.999994319797125% (704200)\n",
      "Li: 13.999996023857989% (492940)\n",
      "O'Tooley: 2.999999147969569% (105630)\n",
      "------------------------------------------------------------------------\n",
      "Winner: Khan\n"
     ]
    }
   ],
   "source": [
    "print('Election Results')\n",
    "print(\"------------------------------------------------------------------------\")\n",
    "print('Total Votes: ' + str(num_votes))\n",
    "print(\"------------------------------------------------------------------------\")\n",
    "print('Khan: ' + str(khan_pct) + '%' + ' (' + str(khan_count) + ')')\n",
    "print('Correy: ' + str(correy_pct) + '%' + ' (' + str(correy_count) + ')')\n",
    "print('Li: ' + str(li_pct) + '%' + ' (' + str(li_count) + ')')\n",
    "print(\"O'Tooley: \" + str(otooley_pct) + '%' + ' (' + str(otooley_count) + ')')\n",
    "print(\"------------------------------------------------------------------------\")\n",
    "print('Winner: Khan')\n",
    "\n",
    "\n",
    "\n",
    "\n",
    "\n",
    "pypoll = open('PyPoll.txt','w')\n",
    "pypoll.write('Election Results' + '\\n' + 'Total Votes: ' + str(num_votes) + '\\n' +\n",
    "             \"------------------------------------------------------------------------\" + '\\n' +\n",
    "             'Khan: ' + str(khan_pct) + '%' + ' (' + str(khan_count) + ')' + '\\n' +\n",
    "             'Correy: ' + str(correy_pct) + '%' + ' (' + str(correy_count) + ')' + '\\n' +\n",
    "             'Li: ' + str(li_pct) + '%' + ' (' + str(li_count) + ')' + '\\n' + \n",
    "             \"O'Tooley: \" + str(otooley_pct) + '%' + ' (' + str(otooley_count) + ')' + '/n' +\n",
    "             \"------------------------------------------------------------------------\" + '\\n' +\n",
    "             'Winner: Khan')\n",
    "pypoll.close()\n"
   ]
  },
  {
   "cell_type": "code",
   "execution_count": null,
   "metadata": {},
   "outputs": [],
   "source": []
  }
 ],
 "metadata": {
  "kernelspec": {
   "display_name": "Python 3",
   "language": "python",
   "name": "python3"
  },
  "language_info": {
   "codemirror_mode": {
    "name": "ipython",
    "version": 3
   },
   "file_extension": ".py",
   "mimetype": "text/x-python",
   "name": "python",
   "nbconvert_exporter": "python",
   "pygments_lexer": "ipython3",
   "version": "3.7.0"
  }
 },
 "nbformat": 4,
 "nbformat_minor": 2
}
